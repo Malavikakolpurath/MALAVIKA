{
  "nbformat": 4,
  "nbformat_minor": 0,
  "metadata": {
    "colab": {
      "provenance": []
    },
    "kernelspec": {
      "name": "python3",
      "display_name": "Python 3"
    },
    "language_info": {
      "name": "python"
    }
  },
  "cells": [
    {
      "cell_type": "markdown",
      "source": [
        "1. Write a Python program which accepts the radius of a circle from the user\n",
        "and compute the area.\n",
        "Sample input: Enter the radius: 3\n",
        "Sample output: Area of Circle is 28.59999999999"
      ],
      "metadata": {
        "id": "l26ayB50SH_z"
      }
    },
    {
      "cell_type": "code",
      "execution_count": null,
      "metadata": {
        "colab": {
          "base_uri": "https://localhost:8080/"
        },
        "id": "6gFSsLoOQnu9",
        "outputId": "64144b15-f563-4ba4-9639-66e4dda2ad2b"
      },
      "outputs": [
        {
          "output_type": "stream",
          "name": "stdout",
          "text": [
            "Enter the radius of circle:3\n",
            "Area of the Circle is: 28.259999999999998\n"
          ]
        }
      ],
      "source": [
        "\n",
        "import math\n",
        "radius=float(input(\"Enter the radius of circle:\"))\n",
        "\n",
        "area=3.14*radius*radius\n",
        "#print(\"Area of the Circle is:{}\".format(round(area,2)))\n",
        "print(\"Area of the Circle is:\",area)"
      ]
    },
    {
      "cell_type": "markdown",
      "source": [
        "2. Write a Python Program to accept the details of a student like name, roll\n",
        "number and mark and display it.\n",
        "Sample input: Enter the name: Anisha\n",
        "Enter the roll number: 21\n",
        "Enter the mark: 78\n",
        "Sample output: Name: Anisha\n",
        "Roll No: 21\n",
        "Mark: 78"
      ],
      "metadata": {
        "id": "vUYaBWwthXUY"
      }
    },
    {
      "cell_type": "code",
      "source": [
        "name = input(\"Enter the name :\")\n",
        "roll_number = input(\"Enter the roll number :\")\n",
        "mark = input(\"Enter the mark :\")\n",
        "\n",
        "print(\"Name :\",name)\n",
        "print(\" Roll No: \",roll_number)\n",
        "print(\"Mark: \",mark)\n"
      ],
      "metadata": {
        "id": "_vNTvpyIZBno",
        "colab": {
          "base_uri": "https://localhost:8080/"
        },
        "outputId": "accd2dea-452a-4d82-8f08-c242cdebc87a"
      },
      "execution_count": null,
      "outputs": [
        {
          "output_type": "stream",
          "name": "stdout",
          "text": [
            "Enter the name :Anisha\n",
            "Enter the roll number :21\n",
            "Enter the mark :78\n",
            "Name : Anisha\n",
            " Roll No:  21\n",
            "Mark:  78\n"
          ]
        }
      ]
    },
    {
      "cell_type": "markdown",
      "source": [
        "3. Write a Python program to get the largest number from a list.\n",
        "Sample input: 12, 3, 47, 10\n",
        "Sample output: 47 is the largest number."
      ],
      "metadata": {
        "id": "1V1SOxzHjRSJ"
      }
    },
    {
      "cell_type": "code",
      "source": [
        "s = input()\n",
        "list1 = list(map(int, s.split(\",\")))\n",
        "print(max(list1),\"is the largest number.\")"
      ],
      "metadata": {
        "colab": {
          "base_uri": "https://localhost:8080/"
        },
        "id": "rIZlVRmdhDVT",
        "outputId": "af7b523e-cad9-4ff7-d157-bbb598b211ed"
      },
      "execution_count": null,
      "outputs": [
        {
          "output_type": "stream",
          "name": "stdout",
          "text": [
            "12, 3, 47, 10\n",
            "47 is the largest number.\n"
          ]
        }
      ]
    },
    {
      "cell_type": "markdown",
      "source": [
        "4. Given a range of first 10 numbers, write a Python program to iterate from\n",
        "start number to the end number and print the sum of the current number\n",
        "and previous number.\n",
        "Sample input: 1….10\n",
        "Sample output: Current Number 1 Previous Number 0 Sum: 1 Current\n",
        "Number 2 Previous Number 1 Sum: 3 Current Number 3 Previous\n",
        "Number 2 Sum: 5… Current Number 10 Previous Number 9 Sum: 19\n"
      ],
      "metadata": {
        "id": "gU7Dz6C-loBf"
      }
    },
    {
      "cell_type": "code",
      "source": [
        "from re import I\n",
        "print(\"Enter any 10 numbers\")\n",
        "s = input()\n",
        "list2 = list(map(int, s.split(\" \")))\n",
        "for i in list2:\n",
        "  c_num = i+1\n",
        "  p_num = i\n",
        "  sum = c_num + p_num\n",
        "  print(\"Current Number:\",c_num,\"Previous Number \",p_num,\"Sum :\",sum)\n"
      ],
      "metadata": {
        "colab": {
          "base_uri": "https://localhost:8080/"
        },
        "id": "BJRnarywnEbj",
        "outputId": "dba7efa3-f999-4f5d-dfb1-0512c1cf7c24"
      },
      "execution_count": null,
      "outputs": [
        {
          "output_type": "stream",
          "name": "stdout",
          "text": [
            "Enter any 10 numbers\n",
            "0 1 2 3 4 5 6 7 8 9\n",
            "Current Number: 1 Previous Number  0 Sum : 1\n",
            "Current Number: 2 Previous Number  1 Sum : 3\n",
            "Current Number: 3 Previous Number  2 Sum : 5\n",
            "Current Number: 4 Previous Number  3 Sum : 7\n",
            "Current Number: 5 Previous Number  4 Sum : 9\n",
            "Current Number: 6 Previous Number  5 Sum : 11\n",
            "Current Number: 7 Previous Number  6 Sum : 13\n",
            "Current Number: 8 Previous Number  7 Sum : 15\n",
            "Current Number: 9 Previous Number  8 Sum : 17\n",
            "Current Number: 10 Previous Number  9 Sum : 19\n"
          ]
        }
      ]
    },
    {
      "cell_type": "markdown",
      "source": [
        "5. Write a Python program to print only those numbers which are divisible\n",
        "of 5.\n",
        "Sample input: 10, 20,33,46,55 Sample output: 10, 20, 55"
      ],
      "metadata": {
        "id": "tJ4_dzaCTQU2"
      }
    },
    {
      "cell_type": "code",
      "source": [
        "num=print(\"Enter the list of  numbers\")\n",
        "s = input()\n",
        "list2 = list(map(int, s.split(\",\")))\n",
        "output = []\n",
        "for i in list2:\n",
        "  if i%5 == 0:\n",
        "    output.append(i)\n",
        "print(*output, sep = \", \")"
      ],
      "metadata": {
        "colab": {
          "base_uri": "https://localhost:8080/"
        },
        "id": "CNVenvH_PU22",
        "outputId": "40c8b388-4e6e-4730-ae93-e579e177a400"
      },
      "execution_count": 12,
      "outputs": [
        {
          "output_type": "stream",
          "name": "stdout",
          "text": [
            "Enter the list of  numbers\n",
            "10, 20,33,46,55\n",
            "10, 20, 55\n"
          ]
        }
      ]
    },
    {
      "cell_type": "markdown",
      "source": [
        "6. Write a Python program to check whether a number is prime or not.\n",
        "Sample input: Enter the number: 3\n",
        "Sample output: 3 is a prime number"
      ],
      "metadata": {
        "id": "MzB19Y5VUhYG"
      }
    },
    {
      "cell_type": "code",
      "source": [
        "n = int(input(\"Enter the number : \"))\n",
        "if n > 1:\n",
        "\tfor i in range(2, int(n/2)+1):\n",
        "\t\tif (n % i) == 0:\n",
        "\t\t\tprint(n, \"is not a prime number\")\n",
        "\t\tbreak\n",
        "\telse:\n",
        "\t\tprint(n, \"is a prime number\")\n",
        "else:\n",
        "\tprint(n, \"is not a prime number\")"
      ],
      "metadata": {
        "colab": {
          "base_uri": "https://localhost:8080/"
        },
        "id": "nW5wKP1LTMn7",
        "outputId": "53a25c76-2d43-4afa-ac09-29c98615967a"
      },
      "execution_count": 20,
      "outputs": [
        {
          "output_type": "stream",
          "name": "stdout",
          "text": [
            "Enter the number : 3\n",
            "3 is a prime number\n"
          ]
        }
      ]
    },
    {
      "cell_type": "markdown",
      "source": [
        "7. Write a Python program to reverse a list using for loop.\n",
        "Sample input: 10,40,30,70\n",
        "Sample output: 70,30,40,10"
      ],
      "metadata": {
        "id": "aqii09Q1Xj4S"
      }
    },
    {
      "cell_type": "code",
      "source": [
        "print(\"Enter the list of numbers\")\n",
        "s = input()\n",
        "list2 = list(map(int, s.split(\",\")))\n",
        "list3=[]\n",
        "for i in range(len(list2)):\n",
        "    list3.insert(i,list2[-1])\n",
        "    list2.pop(-1)\n",
        "print(*list3, sep = \",\")\n"
      ],
      "metadata": {
        "colab": {
          "base_uri": "https://localhost:8080/"
        },
        "id": "lKLCoWxQW05T",
        "outputId": "ac89ea01-267a-4736-f0ac-8634627c2b6d"
      },
      "execution_count": 33,
      "outputs": [
        {
          "output_type": "stream",
          "name": "stdout",
          "text": [
            "Enter the list of numbers\n",
            "10,40,30,70 \n",
            "70,30,40,10\n"
          ]
        }
      ]
    },
    {
      "cell_type": "markdown",
      "source": [
        "8. Write a Python program to print the following pattern.\n",
        "* *\n",
        "* **\n",
        "* ***\n",
        "* ****"
      ],
      "metadata": {
        "id": "AE38o9oXbjgc"
      }
    },
    {
      "cell_type": "code",
      "source": [
        "rows = 5\n",
        "for i in range(rows):\n",
        "    for j in range(i):\n",
        "        print('*', end='')\n",
        "    print('')"
      ],
      "metadata": {
        "colab": {
          "base_uri": "https://localhost:8080/"
        },
        "id": "eCmKGXXdZUUl",
        "outputId": "b2f41086-f1a8-4395-adf0-c251fdcc2545"
      },
      "execution_count": 47,
      "outputs": [
        {
          "output_type": "stream",
          "name": "stdout",
          "text": [
            "\n",
            "*\n",
            "**\n",
            "***\n",
            "****\n"
          ]
        }
      ]
    },
    {
      "cell_type": "markdown",
      "source": [
        "9. Write a Python program to find the maximum of three numbers\n",
        "Sample input: 34,12,7\n",
        "Sample output: 34"
      ],
      "metadata": {
        "id": "oxRsI0v7d6hQ"
      }
    },
    {
      "cell_type": "code",
      "source": [
        "s = input()\n",
        "list1 = list(map(int, s.split(\",\")))\n",
        "print(max(list1))"
      ],
      "metadata": {
        "colab": {
          "base_uri": "https://localhost:8080/"
        },
        "id": "bcuyvhGHcIye",
        "outputId": "2bb40361-5e59-4729-8920-9aeb94454ad5"
      },
      "execution_count": 49,
      "outputs": [
        {
          "output_type": "stream",
          "name": "stdout",
          "text": [
            "34,12,7\n",
            "34\n"
          ]
        }
      ]
    },
    {
      "cell_type": "markdown",
      "source": [
        "\n",
        "10. Write a Python program to construct the following pattern, using a\n",
        "nested for loop.\n",
        "*\n",
        "**\n",
        "***\n",
        "****\n",
        "*****\n",
        "****\n",
        "***\n",
        "**\n",
        "*"
      ],
      "metadata": {
        "id": "7mYZguuWeqlr"
      }
    },
    {
      "cell_type": "code",
      "source": [
        "n=5;\n",
        "for i in range(n):\n",
        "    for j in range(i):\n",
        "        print ('*', end=\"\")\n",
        "    print('')\n",
        "\n",
        "for i in range(n,0,-1):\n",
        "    for j in range(i):\n",
        "        print('*', end=\"\")\n",
        "    print('')"
      ],
      "metadata": {
        "colab": {
          "base_uri": "https://localhost:8080/"
        },
        "id": "R8Ietv77e1Do",
        "outputId": "e580b02e-5c25-438b-a3fb-805885f0f903"
      },
      "execution_count": 57,
      "outputs": [
        {
          "output_type": "stream",
          "name": "stdout",
          "text": [
            "\n",
            "*\n",
            "**\n",
            "***\n",
            "****\n",
            "*****\n",
            "****\n",
            "***\n",
            "**\n",
            "*\n"
          ]
        }
      ]
    }
  ]
}